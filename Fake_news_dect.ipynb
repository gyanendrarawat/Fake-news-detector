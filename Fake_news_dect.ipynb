{
 "cells": [
  {
   "cell_type": "code",
   "execution_count": 1,
   "metadata": {
    "id": "sJ9FPDrOeB4k"
   },
   "outputs": [],
   "source": [
    "import pandas as pd"
   ]
  },
  {
   "cell_type": "code",
   "execution_count": 2,
   "metadata": {
    "id": "dDCL6GaHpG8h"
   },
   "outputs": [],
   "source": [
    "df=pd.read_csv('news.csv');"
   ]
  },
  {
   "cell_type": "code",
   "execution_count": 3,
   "metadata": {
    "colab": {
     "base_uri": "https://localhost:8080/",
     "height": 204
    },
    "id": "s5B-rPzRd-us",
    "outputId": "f5d8546e-90ca-4271-9e31-f0973b4d1ef1"
   },
   "outputs": [
    {
     "data": {
      "text/html": [
       "<div>\n",
       "<style scoped>\n",
       "    .dataframe tbody tr th:only-of-type {\n",
       "        vertical-align: middle;\n",
       "    }\n",
       "\n",
       "    .dataframe tbody tr th {\n",
       "        vertical-align: top;\n",
       "    }\n",
       "\n",
       "    .dataframe thead th {\n",
       "        text-align: right;\n",
       "    }\n",
       "</style>\n",
       "<table border=\"1\" class=\"dataframe\">\n",
       "  <thead>\n",
       "    <tr style=\"text-align: right;\">\n",
       "      <th></th>\n",
       "      <th>Unnamed: 0</th>\n",
       "      <th>title</th>\n",
       "      <th>text</th>\n",
       "      <th>label</th>\n",
       "    </tr>\n",
       "  </thead>\n",
       "  <tbody>\n",
       "    <tr>\n",
       "      <th>0</th>\n",
       "      <td>8476</td>\n",
       "      <td>You Can Smell Hillary’s Fear</td>\n",
       "      <td>Daniel Greenfield, a Shillman Journalism Fello...</td>\n",
       "      <td>FAKE</td>\n",
       "    </tr>\n",
       "    <tr>\n",
       "      <th>1</th>\n",
       "      <td>10294</td>\n",
       "      <td>Watch The Exact Moment Paul Ryan Committed Pol...</td>\n",
       "      <td>Google Pinterest Digg Linkedin Reddit Stumbleu...</td>\n",
       "      <td>FAKE</td>\n",
       "    </tr>\n",
       "    <tr>\n",
       "      <th>2</th>\n",
       "      <td>3608</td>\n",
       "      <td>Kerry to go to Paris in gesture of sympathy</td>\n",
       "      <td>U.S. Secretary of State John F. Kerry said Mon...</td>\n",
       "      <td>REAL</td>\n",
       "    </tr>\n",
       "    <tr>\n",
       "      <th>3</th>\n",
       "      <td>10142</td>\n",
       "      <td>Bernie supporters on Twitter erupt in anger ag...</td>\n",
       "      <td>— Kaydee King (@KaydeeKing) November 9, 2016 T...</td>\n",
       "      <td>FAKE</td>\n",
       "    </tr>\n",
       "    <tr>\n",
       "      <th>4</th>\n",
       "      <td>875</td>\n",
       "      <td>The Battle of New York: Why This Primary Matters</td>\n",
       "      <td>It's primary day in New York and front-runners...</td>\n",
       "      <td>REAL</td>\n",
       "    </tr>\n",
       "  </tbody>\n",
       "</table>\n",
       "</div>"
      ],
      "text/plain": [
       "   Unnamed: 0                                              title  \\\n",
       "0        8476                       You Can Smell Hillary’s Fear   \n",
       "1       10294  Watch The Exact Moment Paul Ryan Committed Pol...   \n",
       "2        3608        Kerry to go to Paris in gesture of sympathy   \n",
       "3       10142  Bernie supporters on Twitter erupt in anger ag...   \n",
       "4         875   The Battle of New York: Why This Primary Matters   \n",
       "\n",
       "                                                text label  \n",
       "0  Daniel Greenfield, a Shillman Journalism Fello...  FAKE  \n",
       "1  Google Pinterest Digg Linkedin Reddit Stumbleu...  FAKE  \n",
       "2  U.S. Secretary of State John F. Kerry said Mon...  REAL  \n",
       "3  — Kaydee King (@KaydeeKing) November 9, 2016 T...  FAKE  \n",
       "4  It's primary day in New York and front-runners...  REAL  "
      ]
     },
     "execution_count": 3,
     "metadata": {},
     "output_type": "execute_result"
    }
   ],
   "source": [
    "df.head()"
   ]
  },
  {
   "cell_type": "code",
   "execution_count": null,
   "metadata": {
    "colab": {
     "base_uri": "https://localhost:8080/"
    },
    "id": "yQFRfkUNeHqw",
    "outputId": "d7ebf6cd-d928-4f29-d4d9-a71b3ca4edf0"
   },
   "outputs": [
    {
     "name": "stdout",
     "output_type": "stream",
     "text": [
      "<class 'pandas.core.frame.DataFrame'>\n",
      "RangeIndex: 6335 entries, 0 to 6334\n",
      "Data columns (total 4 columns):\n",
      " #   Column      Non-Null Count  Dtype \n",
      "---  ------      --------------  ----- \n",
      " 0   Unnamed: 0  6335 non-null   int64 \n",
      " 1   title       6335 non-null   object\n",
      " 2   text        6335 non-null   object\n",
      " 3   label       6335 non-null   object\n",
      "dtypes: int64(1), object(3)\n",
      "memory usage: 198.1+ KB\n"
     ]
    }
   ],
   "source": [
    "df.info()"
   ]
  },
  {
   "cell_type": "code",
   "execution_count": 4,
   "metadata": {
    "id": "MN_0sQR4eI0R"
   },
   "outputs": [],
   "source": [
    "import numpy as np\n",
    "import itertools\n",
    "\n",
    "from sklearn.model_selection import train_test_split\n",
    "from sklearn.feature_extraction.text import TfidfVectorizer\n",
    "from sklearn.linear_model import PassiveAggressiveClassifier\n",
    "from sklearn.metrics import accuracy_score, confusion_matrix,classification_report"
   ]
  },
  {
   "cell_type": "code",
   "execution_count": 5,
   "metadata": {
    "colab": {
     "base_uri": "https://localhost:8080/"
    },
    "id": "ThKdLXgNrddA",
    "outputId": "8ae418cd-d7d9-43f6-b161-9cf58bbbd966"
   },
   "outputs": [
    {
     "data": {
      "text/plain": [
       "0       FAKE\n",
       "1       FAKE\n",
       "2       REAL\n",
       "3       FAKE\n",
       "4       REAL\n",
       "        ... \n",
       "6330    REAL\n",
       "6331    FAKE\n",
       "6332    FAKE\n",
       "6333    REAL\n",
       "6334    REAL\n",
       "Name: label, Length: 6335, dtype: object"
      ]
     },
     "execution_count": 5,
     "metadata": {},
     "output_type": "execute_result"
    }
   ],
   "source": [
    "df.label"
   ]
  },
  {
   "cell_type": "code",
   "execution_count": 6,
   "metadata": {
    "id": "j4SrVb2MrmVN"
   },
   "outputs": [],
   "source": [
    "# splitting dataset\n",
    "x_train,x_test,y_train,y_test=train_test_split(df['text'],df['label'], test_size=0.3,random_state=7)"
   ]
  },
  {
   "cell_type": "code",
   "execution_count": 7,
   "metadata": {
    "id": "Ppy-rc82sPcW"
   },
   "outputs": [],
   "source": [
    "tf_vec=TfidfVectorizer(stop_words='english',max_df=0.7)"
   ]
  },
  {
   "cell_type": "code",
   "execution_count": 8,
   "metadata": {
    "id": "EVCnmyyeuKYN"
   },
   "outputs": [],
   "source": [
    "tf_train=tf_vec.fit_transform(x_train)"
   ]
  },
  {
   "cell_type": "code",
   "execution_count": 9,
   "metadata": {
    "id": "_kFwKTmfuyfb"
   },
   "outputs": [],
   "source": [
    "['Raj Kundra pornography case Live Updates HC Shilpa Shetty’s plea will affect freedom of press']tf_test=tf_vec.transform(x_test)"
   ]
  },
  {
   "cell_type": "code",
   "execution_count": 10,
   "metadata": {
    "colab": {
     "base_uri": "https://localhost:8080/"
    },
    "id": "ix9w7UZg_Bla",
    "outputId": "99adfd7c-7a15-4f3c-cb5b-09538fead2a1"
   },
   "outputs": [
    {
     "data": {
      "text/plain": [
       "(1901, 57794)"
      ]
     },
     "execution_count": 10,
     "metadata": {},
     "output_type": "execute_result"
    }
   ],
   "source": [
    "tf_test.shape"
   ]
  },
  {
   "cell_type": "code",
   "execution_count": 11,
   "metadata": {
    "colab": {
     "base_uri": "https://localhost:8080/"
    },
    "id": "H1DutNi373SC",
    "outputId": "0f185197-2e5b-48e7-f522-0917d19110df"
   },
   "outputs": [
    {
     "name": "stdout",
     "output_type": "stream",
     "text": [
      "  (0, 56947)\t0.059409866040862416\n",
      "  (0, 56901)\t0.03357450775583044\n",
      "  (0, 56517)\t0.04575109888851495\n",
      "  (0, 56507)\t0.07929960444241527\n",
      "  (0, 55422)\t0.11046010020530728\n",
      "  (0, 55351)\t0.08028048911755097\n",
      "  (0, 54989)\t0.07094921480786723\n",
      "  (0, 54691)\t0.06762966511255825\n",
      "  (0, 53504)\t0.12456883347444651\n",
      "  (0, 51709)\t0.21107223976873452\n",
      "  (0, 51271)\t0.0356510958883345\n",
      "  (0, 50978)\t0.10397038721629276\n",
      "  (0, 50830)\t0.06295955139138647\n",
      "  (0, 50371)\t0.04969153216873251\n",
      "  (0, 50161)\t0.11860609570619828\n",
      "  (0, 49807)\t0.06000170017746924\n",
      "  (0, 49254)\t0.13873359340205874\n",
      "  (0, 49183)\t0.0733340812660753\n",
      "  (0, 48689)\t0.13873359340205874\n",
      "  (0, 48684)\t0.030411554268273903\n",
      "  (0, 48410)\t0.11860609570619828\n",
      "  (0, 48282)\t0.08206063398357014\n",
      "  (0, 47937)\t0.053007166870981254\n",
      "  (0, 47804)\t0.07390083277473616\n",
      "  (0, 46912)\t0.06459490226623658\n",
      "  :\t:\n",
      "  (1900, 7995)\t0.02852083117052969\n",
      "  (1900, 6974)\t0.04266617172797045\n",
      "  (1900, 6688)\t0.023354286987712157\n",
      "  (1900, 6682)\t0.03517277647047369\n",
      "  (1900, 6660)\t0.02678680929925084\n",
      "  (1900, 6492)\t0.04434224364256003\n",
      "  (1900, 6363)\t0.02740229764724534\n",
      "  (1900, 6301)\t0.01744441900319463\n",
      "  (1900, 6097)\t0.033286911005703315\n",
      "  (1900, 5399)\t0.03671742797025337\n",
      "  (1900, 4901)\t0.020552247598331616\n",
      "  (1900, 3748)\t0.021280711115424972\n",
      "  (1900, 3417)\t0.03174866549831353\n",
      "  (1900, 3205)\t0.07109837482031094\n",
      "  (1900, 2880)\t0.02895241381251236\n",
      "  (1900, 2860)\t0.057349207691594226\n",
      "  (1900, 2831)\t0.022826379315173177\n",
      "  (1900, 2808)\t0.036590962485077004\n",
      "  (1900, 2771)\t0.03436840039518521\n",
      "  (1900, 2749)\t0.026249790904822594\n",
      "  (1900, 2314)\t0.018438241202263932\n",
      "  (1900, 1020)\t0.05041380076317183\n",
      "  (1900, 631)\t0.022553466847644605\n",
      "  (1900, 273)\t0.02112605966285204\n",
      "  (1900, 1)\t0.01821087185999131\n"
     ]
    }
   ],
   "source": [
    "print(tf_test)"
   ]
  },
  {
   "cell_type": "code",
   "execution_count": 12,
   "metadata": {
    "colab": {
     "base_uri": "https://localhost:8080/"
    },
    "id": "edMvq4sJu6RS",
    "outputId": "9c53fe3f-efd4-47a1-f1de-6ccf742df4b8"
   },
   "outputs": [
    {
     "data": {
      "text/plain": [
       "PassiveAggressiveClassifier(max_iter=50)"
      ]
     },
     "execution_count": 12,
     "metadata": {},
     "output_type": "execute_result"
    }
   ],
   "source": [
    "ps_ag_clas=PassiveAggressiveClassifier(max_iter=50)\n",
    "ps_ag_clas.fit(tf_train,y_train)"
   ]
  },
  {
   "cell_type": "code",
   "execution_count": 13,
   "metadata": {
    "id": "fxDnJ3gewNWU"
   },
   "outputs": [],
   "source": [
    "pred=ps_ag_clas.predict(tf_test)"
   ]
  },
  {
   "cell_type": "code",
   "execution_count": 14,
   "metadata": {
    "id": "Q6O4dR5Cwgow"
   },
   "outputs": [],
   "source": [
    "score=accuracy_score(y_test,pred)"
   ]
  },
  {
   "cell_type": "code",
   "execution_count": 15,
   "metadata": {
    "colab": {
     "base_uri": "https://localhost:8080/"
    },
    "id": "RZwkUP1qwqLb",
    "outputId": "c66c7a48-5bf5-4985-81fb-b042c1f146e6"
   },
   "outputs": [
    {
     "name": "stdout",
     "output_type": "stream",
     "text": [
      "Accuracy:92.64\n"
     ]
    }
   ],
   "source": [
    "print('Accuracy:%5.2f'%(score*100))"
   ]
  },
  {
   "cell_type": "code",
   "execution_count": 16,
   "metadata": {
    "id": "RFlawq0Cw-Ea"
   },
   "outputs": [],
   "source": [
    "cf_matrix=confusion_matrix(y_test,pred)"
   ]
  },
  {
   "cell_type": "code",
   "execution_count": 19,
   "metadata": {
    "colab": {
     "base_uri": "https://localhost:8080/"
    },
    "id": "TzYpVLEn3s_t",
    "outputId": "6d379415-cc9c-4000-a1e8-cf85e103c4bc"
   },
   "outputs": [
    {
     "name": "stdout",
     "output_type": "stream",
     "text": [
      "              precision    recall  f1-score   support\n",
      "\n",
      "        FAKE       0.93      0.93      0.93       974\n",
      "        REAL       0.92      0.93      0.92       927\n",
      "\n",
      "    accuracy                           0.93      1901\n",
      "   macro avg       0.93      0.93      0.93      1901\n",
      "weighted avg       0.93      0.93      0.93      1901\n",
      "\n"
     ]
    }
   ],
   "source": [
    "print(classification_report(y_test,pred))"
   ]
  },
  {
   "cell_type": "code",
   "execution_count": 21,
   "metadata": {},
   "outputs": [],
   "source": [
    "import pickle "
   ]
  },
  {
   "cell_type": "code",
   "execution_count": 28,
   "metadata": {},
   "outputs": [],
   "source": [
    "pickle.dump([tf_vec,ps_ag_clas],open('model.pkl','wb'))"
   ]
  },
  {
   "cell_type": "code",
   "execution_count": 17,
   "metadata": {
    "id": "fdmVdFl96y_X"
   },
   "outputs": [],
   "source": [
    "# new_tf_test = tf_vec.transform(['Raj Kundra pornography case Live Updates HC Shilpa Shetty’s plea will affect freedom of press'])\n",
    "# new_pred = ps_ag_clas.predict(new_tf_test)"
   ]
  },
  {
   "cell_type": "code",
   "execution_count": 18,
   "metadata": {
    "colab": {
     "base_uri": "https://localhost:8080/"
    },
    "id": "eksOrbY2_o05",
    "outputId": "d9532d37-72dd-4a70-faa5-a896779b918a"
   },
   "outputs": [
    {
     "data": {
      "text/plain": [
       "array(['FAKE'], dtype='<U4')"
      ]
     },
     "execution_count": 18,
     "metadata": {},
     "output_type": "execute_result"
    }
   ],
   "source": [
    "# new_pred"
   ]
  },
  {
   "cell_type": "code",
   "execution_count": 38,
   "metadata": {
    "id": "4xRTInmqCW4k"
   },
   "outputs": [
    {
     "name": "stdout",
     "output_type": "stream",
     "text": [
      "FAKE\n"
     ]
    }
   ],
   "source": [
    "# model=pickle.load(open('model.pkl','rb'))\n",
    "# st='Raj Kundra pornography case Live Updates HC Shilpa Shetty’s plea will affect freedom of press'\n",
    "\n",
    "# thing=model[0].transform([st])\n",
    "# print(model[1].predict(thing)[0])\n"
   ]
  },
  {
   "cell_type": "code",
   "execution_count": null,
   "metadata": {},
   "outputs": [],
   "source": [
    "# print(model[1].predict([st]))"
   ]
  }
 ],
 "metadata": {
  "colab": {
   "collapsed_sections": [],
   "name": "Fake news dect.ipynb",
   "provenance": []
  },
  "kernelspec": {
   "display_name": "Python 3",
   "language": "python",
   "name": "python3"
  },
  "language_info": {
   "codemirror_mode": {
    "name": "ipython",
    "version": 3
   },
   "file_extension": ".py",
   "mimetype": "text/x-python",
   "name": "python",
   "nbconvert_exporter": "python",
   "pygments_lexer": "ipython3",
   "version": "3.8.8"
  }
 },
 "nbformat": 4,
 "nbformat_minor": 1
}
